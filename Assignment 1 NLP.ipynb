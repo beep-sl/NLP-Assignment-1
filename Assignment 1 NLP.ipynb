{
 "cells": [
  {
   "cell_type": "markdown",
   "id": "6778c485",
   "metadata": {},
   "source": [
    "# Stephen Lanna\n",
    "# Assignment 1\n",
    "# NLP\n",
    "# 2/6/23"
   ]
  },
  {
   "cell_type": "code",
   "execution_count": 186,
   "id": "6217d242",
   "metadata": {},
   "outputs": [
    {
     "name": "stderr",
     "output_type": "stream",
     "text": [
      "[nltk_data] Downloading package punkt to\n",
      "[nltk_data]     /Users/stephenlanna/nltk_data...\n",
      "[nltk_data]   Package punkt is already up-to-date!\n",
      "[nltk_data] Downloading package stopwords to\n",
      "[nltk_data]     /Users/stephenlanna/nltk_data...\n",
      "[nltk_data]   Package stopwords is already up-to-date!\n"
     ]
    },
    {
     "data": {
      "text/plain": [
       "True"
      ]
     },
     "execution_count": 186,
     "metadata": {},
     "output_type": "execute_result"
    }
   ],
   "source": [
    "# Imports\n",
    "import pandas as pd\n",
    "import matplotlib.pyplot as plt\n",
    "from wordcloud import WordCloud\n",
    "from nltk.corpus import stopwords\n",
    "from nltk.tokenize import word_tokenize\n",
    "import re\n",
    "import collections\n",
    "\n",
    "import nltk\n",
    "nltk.download('punkt')\n",
    "nltk.download('stopwords')"
   ]
  },
  {
   "cell_type": "code",
   "execution_count": 187,
   "id": "15d499af",
   "metadata": {},
   "outputs": [
    {
     "name": "stdout",
     "output_type": "stream",
     "text": [
      "/Users/stephenlanna/opt/anaconda3/bin/python\n"
     ]
    }
   ],
   "source": [
    "import sys\n",
    "print(sys.executable)"
   ]
  },
  {
   "cell_type": "code",
   "execution_count": 188,
   "id": "30f9af6f",
   "metadata": {},
   "outputs": [
    {
     "data": {
      "text/html": [
       "<div>\n",
       "<style scoped>\n",
       "    .dataframe tbody tr th:only-of-type {\n",
       "        vertical-align: middle;\n",
       "    }\n",
       "\n",
       "    .dataframe tbody tr th {\n",
       "        vertical-align: top;\n",
       "    }\n",
       "\n",
       "    .dataframe thead th {\n",
       "        text-align: right;\n",
       "    }\n",
       "</style>\n",
       "<table border=\"1\" class=\"dataframe\">\n",
       "  <thead>\n",
       "    <tr style=\"text-align: right;\">\n",
       "      <th></th>\n",
       "      <th>Id</th>\n",
       "      <th>PostTypeId</th>\n",
       "      <th>AcceptedAnswerId</th>\n",
       "      <th>CreationDate</th>\n",
       "      <th>Score</th>\n",
       "      <th>ViewCount</th>\n",
       "      <th>Body</th>\n",
       "      <th>OwnerUserId</th>\n",
       "      <th>LastActivityDate</th>\n",
       "      <th>Title</th>\n",
       "      <th>...</th>\n",
       "      <th>CommentCount</th>\n",
       "      <th>FavoriteCount</th>\n",
       "      <th>ContentLicense</th>\n",
       "      <th>LastEditorUserId</th>\n",
       "      <th>LastEditDate</th>\n",
       "      <th>ParentId</th>\n",
       "      <th>ClosedDate</th>\n",
       "      <th>OwnerDisplayName</th>\n",
       "      <th>LastEditorDisplayName</th>\n",
       "      <th>CommunityOwnedDate</th>\n",
       "    </tr>\n",
       "  </thead>\n",
       "  <tbody>\n",
       "    <tr>\n",
       "      <th>0</th>\n",
       "      <td>1</td>\n",
       "      <td>1</td>\n",
       "      <td>24.0</td>\n",
       "      <td>2015-01-27T20:09:32.720</td>\n",
       "      <td>48</td>\n",
       "      <td>2847.0</td>\n",
       "      <td>&lt;p&gt;I just got a pound of microroasted, local c...</td>\n",
       "      <td>4.0</td>\n",
       "      <td>2019-02-04T13:15:48.970</td>\n",
       "      <td>How should I store whole bean coffee?</td>\n",
       "      <td>...</td>\n",
       "      <td>4</td>\n",
       "      <td>11.0</td>\n",
       "      <td>CC BY-SA 3.0</td>\n",
       "      <td>NaN</td>\n",
       "      <td>None</td>\n",
       "      <td>NaN</td>\n",
       "      <td>None</td>\n",
       "      <td>None</td>\n",
       "      <td>None</td>\n",
       "      <td>None</td>\n",
       "    </tr>\n",
       "    <tr>\n",
       "      <th>1</th>\n",
       "      <td>2</td>\n",
       "      <td>1</td>\n",
       "      <td>22.0</td>\n",
       "      <td>2015-01-27T20:13:58.610</td>\n",
       "      <td>7</td>\n",
       "      <td>1066.0</td>\n",
       "      <td>&lt;p&gt;I manually grind coffee beans for drip coff...</td>\n",
       "      <td>8.0</td>\n",
       "      <td>2015-01-27T21:13:20.537</td>\n",
       "      <td>How fine should I grind coffee for drip/pour o...</td>\n",
       "      <td>...</td>\n",
       "      <td>4</td>\n",
       "      <td>NaN</td>\n",
       "      <td>CC BY-SA 3.0</td>\n",
       "      <td>8.0</td>\n",
       "      <td>2015-01-27T21:13:20.537</td>\n",
       "      <td>NaN</td>\n",
       "      <td>None</td>\n",
       "      <td>None</td>\n",
       "      <td>None</td>\n",
       "      <td>None</td>\n",
       "    </tr>\n",
       "    <tr>\n",
       "      <th>2</th>\n",
       "      <td>3</td>\n",
       "      <td>1</td>\n",
       "      <td>15.0</td>\n",
       "      <td>2015-01-27T20:20:05.700</td>\n",
       "      <td>30</td>\n",
       "      <td>1614.0</td>\n",
       "      <td>&lt;p&gt;I live in a hard water area and when brewin...</td>\n",
       "      <td>8.0</td>\n",
       "      <td>2019-11-28T09:51:33.867</td>\n",
       "      <td>Does the hardness of water matter when making ...</td>\n",
       "      <td>...</td>\n",
       "      <td>1</td>\n",
       "      <td>NaN</td>\n",
       "      <td>CC BY-SA 3.0</td>\n",
       "      <td>262.0</td>\n",
       "      <td>2016-05-02T01:36:46.847</td>\n",
       "      <td>NaN</td>\n",
       "      <td>None</td>\n",
       "      <td>None</td>\n",
       "      <td>None</td>\n",
       "      <td>None</td>\n",
       "    </tr>\n",
       "    <tr>\n",
       "      <th>3</th>\n",
       "      <td>4</td>\n",
       "      <td>1</td>\n",
       "      <td>37.0</td>\n",
       "      <td>2015-01-27T20:30:33.657</td>\n",
       "      <td>10</td>\n",
       "      <td>302.0</td>\n",
       "      <td>&lt;p&gt;I own a drip coffee pot:\\n&lt;img src=\"https:/...</td>\n",
       "      <td>8.0</td>\n",
       "      <td>2015-01-27T21:58:54.353</td>\n",
       "      <td>What's the theory behind using thin spouted ke...</td>\n",
       "      <td>...</td>\n",
       "      <td>8</td>\n",
       "      <td>1.0</td>\n",
       "      <td>CC BY-SA 3.0</td>\n",
       "      <td>8.0</td>\n",
       "      <td>2015-01-27T21:26:01.250</td>\n",
       "      <td>NaN</td>\n",
       "      <td>None</td>\n",
       "      <td>None</td>\n",
       "      <td>None</td>\n",
       "      <td>None</td>\n",
       "    </tr>\n",
       "    <tr>\n",
       "      <th>4</th>\n",
       "      <td>5</td>\n",
       "      <td>1</td>\n",
       "      <td>8.0</td>\n",
       "      <td>2015-01-27T20:34:58.077</td>\n",
       "      <td>20</td>\n",
       "      <td>1212.0</td>\n",
       "      <td>&lt;p&gt;I observe that coffee servers (I refuse to ...</td>\n",
       "      <td>8.0</td>\n",
       "      <td>2022-02-24T19:13:05.100</td>\n",
       "      <td>How important is tamping coffee for an espress...</td>\n",
       "      <td>...</td>\n",
       "      <td>0</td>\n",
       "      <td>NaN</td>\n",
       "      <td>CC BY-SA 3.0</td>\n",
       "      <td>8.0</td>\n",
       "      <td>2015-01-27T20:46:23.583</td>\n",
       "      <td>NaN</td>\n",
       "      <td>None</td>\n",
       "      <td>None</td>\n",
       "      <td>None</td>\n",
       "      <td>None</td>\n",
       "    </tr>\n",
       "  </tbody>\n",
       "</table>\n",
       "<p>5 rows × 22 columns</p>\n",
       "</div>"
      ],
      "text/plain": [
       "   Id  PostTypeId  AcceptedAnswerId             CreationDate  Score  \\\n",
       "0   1           1              24.0  2015-01-27T20:09:32.720     48   \n",
       "1   2           1              22.0  2015-01-27T20:13:58.610      7   \n",
       "2   3           1              15.0  2015-01-27T20:20:05.700     30   \n",
       "3   4           1              37.0  2015-01-27T20:30:33.657     10   \n",
       "4   5           1               8.0  2015-01-27T20:34:58.077     20   \n",
       "\n",
       "   ViewCount                                               Body  OwnerUserId  \\\n",
       "0     2847.0  <p>I just got a pound of microroasted, local c...          4.0   \n",
       "1     1066.0  <p>I manually grind coffee beans for drip coff...          8.0   \n",
       "2     1614.0  <p>I live in a hard water area and when brewin...          8.0   \n",
       "3      302.0  <p>I own a drip coffee pot:\\n<img src=\"https:/...          8.0   \n",
       "4     1212.0  <p>I observe that coffee servers (I refuse to ...          8.0   \n",
       "\n",
       "          LastActivityDate                                              Title  \\\n",
       "0  2019-02-04T13:15:48.970              How should I store whole bean coffee?   \n",
       "1  2015-01-27T21:13:20.537  How fine should I grind coffee for drip/pour o...   \n",
       "2  2019-11-28T09:51:33.867  Does the hardness of water matter when making ...   \n",
       "3  2015-01-27T21:58:54.353  What's the theory behind using thin spouted ke...   \n",
       "4  2022-02-24T19:13:05.100  How important is tamping coffee for an espress...   \n",
       "\n",
       "   ... CommentCount  FavoriteCount  ContentLicense  LastEditorUserId  \\\n",
       "0  ...            4           11.0    CC BY-SA 3.0               NaN   \n",
       "1  ...            4            NaN    CC BY-SA 3.0               8.0   \n",
       "2  ...            1            NaN    CC BY-SA 3.0             262.0   \n",
       "3  ...            8            1.0    CC BY-SA 3.0               8.0   \n",
       "4  ...            0            NaN    CC BY-SA 3.0               8.0   \n",
       "\n",
       "              LastEditDate  ParentId ClosedDate  OwnerDisplayName  \\\n",
       "0                     None       NaN       None              None   \n",
       "1  2015-01-27T21:13:20.537       NaN       None              None   \n",
       "2  2016-05-02T01:36:46.847       NaN       None              None   \n",
       "3  2015-01-27T21:26:01.250       NaN       None              None   \n",
       "4  2015-01-27T20:46:23.583       NaN       None              None   \n",
       "\n",
       "  LastEditorDisplayName CommunityOwnedDate  \n",
       "0                  None               None  \n",
       "1                  None               None  \n",
       "2                  None               None  \n",
       "3                  None               None  \n",
       "4                  None               None  \n",
       "\n",
       "[5 rows x 22 columns]"
      ]
     },
     "execution_count": 188,
     "metadata": {},
     "output_type": "execute_result"
    }
   ],
   "source": [
    "# Read in the xml file to a DataFrame\n",
    "coffeeDf = pd.read_xml(\"/Users/stephenlanna/Documents/NLP/Posts_Coffee.xml\")\n",
    "coffeeDf.head()"
   ]
  },
  {
   "cell_type": "code",
   "execution_count": 189,
   "id": "40bf2126",
   "metadata": {},
   "outputs": [
    {
     "data": {
      "text/plain": [
       "Id                          0\n",
       "PostTypeId                  0\n",
       "AcceptedAnswerId         3562\n",
       "CreationDate                0\n",
       "Score                       0\n",
       "ViewCount                2843\n",
       "Body                       36\n",
       "OwnerUserId                62\n",
       "LastActivityDate            0\n",
       "Title                    2843\n",
       "Tags                     2843\n",
       "AnswerCount              2843\n",
       "CommentCount                0\n",
       "FavoriteCount            3862\n",
       "ContentLicense              0\n",
       "LastEditorUserId         2561\n",
       "LastEditDate             2542\n",
       "ParentId                 1511\n",
       "ClosedDate               4150\n",
       "OwnerDisplayName         4113\n",
       "LastEditorDisplayName    4187\n",
       "CommunityOwnedDate       4206\n",
       "dtype: int64"
      ]
     },
     "execution_count": 189,
     "metadata": {},
     "output_type": "execute_result"
    }
   ],
   "source": [
    "coffeeDf.isna().sum()"
   ]
  },
  {
   "cell_type": "markdown",
   "id": "28f400b4",
   "metadata": {},
   "source": [
    "# Part 1: Preprocessing/Zipf's Law Plot"
   ]
  },
  {
   "cell_type": "code",
   "execution_count": 190,
   "id": "de5cf99d",
   "metadata": {},
   "outputs": [],
   "source": [
    "# Function to remove rows that have null values for 'Title' column\n",
    "def removeNullTitles(df):\n",
    "    df = df[df['Title'].notna()]\n",
    "    return df"
   ]
  },
  {
   "cell_type": "code",
   "execution_count": 191,
   "id": "b3a64544",
   "metadata": {},
   "outputs": [],
   "source": [
    "# Function to get a list of words from the dataframe\n",
    "def dfToWords(df):\n",
    "    # Drop rows that have null Titles\n",
    "    df = removeNullTitles(df)\n",
    "    \n",
    "    words = []\n",
    "    # Iterate through dataframe, adding words to the list\n",
    "    for index, row in df.iterrows():\n",
    "        rowList = re.split('[^a-zA-Z]', row['Title'].lower())\n",
    "        for word in rowList:\n",
    "            if len(word) > 0:\n",
    "                words.append(word)\n",
    "    return words"
   ]
  },
  {
   "cell_type": "code",
   "execution_count": 192,
   "id": "3c373389",
   "metadata": {},
   "outputs": [],
   "source": [
    "# Call functions to get a cleaned list of words\n",
    "words = dfToWords(coffeeDf)"
   ]
  },
  {
   "cell_type": "code",
   "execution_count": 193,
   "id": "0465dbcb",
   "metadata": {},
   "outputs": [],
   "source": [
    "# Function to get most frequent words. Takes a list of words and int representing n many tuples to return. \n",
    "def getMostFrequentWords(words, top):\n",
    "    counterWords = collections.Counter(words)\n",
    "    topWordFrequencies = counterWords.most_common(top)\n",
    "    \n",
    "    return topWordFrequencies"
   ]
  },
  {
   "cell_type": "code",
   "execution_count": 194,
   "id": "e0d1878e",
   "metadata": {
    "scrolled": false
   },
   "outputs": [],
   "source": [
    "def createZipfTable(frequencies):\n",
    "    zipfTable = []\n",
    "    topFrequency = frequencies[0][1]\n",
    "    \n",
    "    for index, item in enumerate(frequencies, start=1):\n",
    "        \n",
    "        relativeFrequency = \"1/{}\".format(index)\n",
    "        zipfFrequency = topFrequency * (1 / index)\n",
    "        differenceActual = item[1] - zipfFrequency\n",
    "        differencePercent = (item[1] / zipfFrequency) * 100\n",
    "\n",
    "        zipfTable.append({\"word\": item[0],\n",
    "                           \"actualFrequency\": item[1],\n",
    "                           \"relativeFrequency\": relativeFrequency,\n",
    "                           \"zipfFrequency\": zipfFrequency,\n",
    "                           \"differenceActual\": differenceActual,\n",
    "                           \"differencePercent\": differencePercent})\n",
    "\n",
    "    return zipfTable"
   ]
  },
  {
   "cell_type": "code",
   "execution_count": 195,
   "id": "5b4cb788",
   "metadata": {},
   "outputs": [],
   "source": [
    "def printZipfTable(zipfTable):\n",
    "\n",
    "    \"\"\"\n",
    "    Prints the list created by generate_zipf_table\n",
    "    in table format with column headings.\n",
    "    \"\"\"\n",
    "\n",
    "    width = 80\n",
    "\n",
    "    print(\"-\" * width)\n",
    "    print(\"|Rank|    Word    |Actual Freq | Zipf Frac  | Zipf Freq  |Actual Diff |Pct Diff|\")\n",
    "    print(\"-\" * width)\n",
    "\n",
    "    formatString = \"|{:4}|{:12}|{:12.0f}|{:>12}|{:12.2f}|{:12.2f}|{:7.2f}%|\"\n",
    "\n",
    "    for index, item in enumerate(zipfTable, start=1):\n",
    "\n",
    "        print(formatString.format(index,\n",
    "                                   item[\"word\"],\n",
    "                                   item[\"actualFrequency\"],\n",
    "                                   item[\"relativeFrequency\"],\n",
    "                                   item[\"zipfFrequency\"],\n",
    "                                   item[\"differenceActual\"],\n",
    "                                   item[\"differencePercent\"]))\n",
    "\n",
    "    print(\"-\" * width)"
   ]
  },
  {
   "cell_type": "code",
   "execution_count": 196,
   "id": "6ec1cd99",
   "metadata": {},
   "outputs": [],
   "source": [
    "def genZipfTable(df, top):\n",
    "    #words = dfToWords(df)\n",
    "    topWordFreq = getMostFrequentWords(words, top)\n",
    "    zipfTable = createZipfTable(topWordFreq)\n",
    "    return zipfTable"
   ]
  },
  {
   "cell_type": "code",
   "execution_count": 197,
   "id": "10f3ef65",
   "metadata": {},
   "outputs": [
    {
     "name": "stdout",
     "output_type": "stream",
     "text": [
      "--------------------------------------------------------------------------------\n",
      "|Rank|    Word    |Actual Freq | Zipf Frac  | Zipf Freq  |Actual Diff |Pct Diff|\n",
      "--------------------------------------------------------------------------------\n",
      "|   1|coffee      |         771|         1/1|      771.00|        0.00| 100.00%|\n",
      "|   2|the         |         415|         1/2|      385.50|       29.50| 107.65%|\n",
      "|   3|to          |         339|         1/3|      257.00|       82.00| 131.91%|\n",
      "|   4|a           |         324|         1/4|      192.75|      131.25| 168.09%|\n",
      "|   5|is          |         293|         1/5|      154.20|      138.80| 190.01%|\n",
      "|   6|how         |         276|         1/6|      128.50|      147.50| 214.79%|\n",
      "|   7|what        |         270|         1/7|      110.14|      159.86| 245.14%|\n",
      "|   8|of          |         254|         1/8|       96.38|      157.62| 263.55%|\n",
      "|   9|i           |         212|         1/9|       85.67|      126.33| 247.47%|\n",
      "|  10|in          |         197|        1/10|       77.10|      119.90| 255.51%|\n",
      "|  11|for         |         192|        1/11|       70.09|      121.91| 273.93%|\n",
      "|  12|does        |         138|        1/12|       64.25|       73.75| 214.79%|\n",
      "|  13|espresso    |         138|        1/13|       59.31|       78.69| 232.68%|\n",
      "|  14|and         |         129|        1/14|       55.07|       73.93| 234.24%|\n",
      "|  15|my          |         120|        1/15|       51.40|       68.60| 233.46%|\n",
      "--------------------------------------------------------------------------------\n"
     ]
    }
   ],
   "source": [
    "zipfTable = genZipfTable(words, 15)\n",
    "printZipfTable(zipfTable)"
   ]
  },
  {
   "cell_type": "markdown",
   "id": "19db58b9",
   "metadata": {},
   "source": [
    "### Explain in a paragraph"
   ]
  },
  {
   "cell_type": "markdown",
   "id": "7ef1a8a3",
   "metadata": {},
   "source": [
    "These results are not exactly what I would expect from Zipf's law. In certain situations it is, while others it is not. For example, \"coffee\" occurs about twice as frequently as \"the.\" The third most frequent word, \"to,\" does not occur exactly 1/3 as frequently as \"coffee,\" but it is close. However, the 4th most frequent word (\"a\") occurs closer to 1/2 as frequent as word 1, not 1/4. This is not close enough to pass in my opinion."
   ]
  },
  {
   "cell_type": "markdown",
   "id": "b1db6f10",
   "metadata": {},
   "source": [
    "# Part 2: WordClouds"
   ]
  },
  {
   "cell_type": "markdown",
   "id": "c44ea346",
   "metadata": {},
   "source": [
    "### Word Cloud (with stopwords)"
   ]
  },
  {
   "cell_type": "code",
   "execution_count": 198,
   "id": "4563624d",
   "metadata": {},
   "outputs": [],
   "source": [
    "freqWords = getMostFrequentWords(words, 20)\n",
    "\n",
    "top20 = \"\"\n",
    "\n",
    "for i in freqWords:\n",
    "    top20 += i[0] + \" \"\n",
    "\n",
    "word_cloud = WordCloud(collocations = False, background_color = 'white', stopwords=\"\").generate(top20)"
   ]
  },
  {
   "cell_type": "code",
   "execution_count": 199,
   "id": "25cc3fe7",
   "metadata": {},
   "outputs": [
    {
     "data": {
      "image/png": "[encoded data removed]",
      "text/plain": [
       "<Figure size 432x288 with 1 Axes>"
      ]
     },
     "metadata": {
      "needs_background": "light"
     },
     "output_type": "display_data"
    }
   ],
   "source": [
    "plt.imshow(word_cloud, interpolation='bilinear')\n",
    "plt.axis(\"off\")\n",
    "plt.show()"
   ]
  },
  {
   "cell_type": "markdown",
   "id": "d96328cd",
   "metadata": {},
   "source": [
    "### Word Cloud (stopwords removed)"
   ]
  },
  {
   "cell_type": "code",
   "execution_count": 200,
   "id": "cd60031f",
   "metadata": {},
   "outputs": [],
   "source": [
    "allWords = \"\"\n",
    "\n",
    "for word in words:\n",
    "    allWords += word + \" \"\n",
    "    \n",
    "stopWords = set(stopwords.words('english'))\n",
    "\n",
    "wordTokens = word_tokenize(allWords)\n",
    "\n",
    "stopwordsRemoved = [w for w in wordTokens if not w.lower() in stopWords]\n",
    "\n",
    "stopwordsRemoved = []\n",
    "\n",
    "for w in wordTokens:\n",
    "    if w not in stopWords:\n",
    "        stopwordsRemoved.append(w)"
   ]
  },
  {
   "cell_type": "code",
   "execution_count": 201,
   "id": "542352e2",
   "metadata": {},
   "outputs": [],
   "source": [
    "freqWords = getMostFrequentWords(stopwordsRemoved, 20)\n",
    "\n",
    "top20 = \"\"\n",
    "\n",
    "for i in freqWords:\n",
    "    top20 += i[0] + \" \"\n",
    "\n",
    "word_cloud = WordCloud(collocations = False, background_color = 'white', stopwords=\"\").generate(top20)"
   ]
  },
  {
   "cell_type": "code",
   "execution_count": 202,
   "id": "fd348775",
   "metadata": {},
   "outputs": [],
   "source": [
    "word_cloud = WordCloud(collocations = False, background_color = 'white').generate(top20)"
   ]
  },
  {
   "cell_type": "code",
   "execution_count": 203,
   "id": "27eb0862",
   "metadata": {},
   "outputs": [
    {
     "data": {
      "image/png": "[encoded data removed]",
      "text/plain": [
       "<Figure size 432x288 with 1 Axes>"
      ]
     },
     "metadata": {
      "needs_background": "light"
     },
     "output_type": "display_data"
    }
   ],
   "source": [
    "plt.imshow(word_cloud, interpolation='bilinear')\n",
    "plt.axis(\"off\")\n",
    "plt.show()"
   ]
  },
  {
   "cell_type": "markdown",
   "id": "8f72de7d",
   "metadata": {},
   "source": [
    "### WordCloud Analysis"
   ]
  },
  {
   "cell_type": "markdown",
   "id": "5e94d872",
   "metadata": {},
   "source": [
    "The first WordCloud contains mostly stopwords, except for the words \"coffee\" and \"espresso.\" The second WordCloud contains exclusively coffee related words, which is pretty cool. It shows just how often stopwords are used. I foresee stopword processing to be an important thing to handle in my project."
   ]
  },
  {
   "cell_type": "markdown",
   "id": "4634110a",
   "metadata": {},
   "source": [
    "# Part 3"
   ]
  },
  {
   "cell_type": "markdown",
   "id": "9107df19",
   "metadata": {},
   "source": [
    "I would first find datasets that have different speeches/quotes from presidents. Then I would clean/normalize the data. Then, I would use a Byte-Pair Encoder or a WordPiece tokenizer to build our vocabulary and calculate word/character pair probabilities. Depending on the size of the dataset we are working with, I would probably select an n-gram model to generate a speech, to fine tune a realistic speech. Next, I would split the data into X and y datasets, and split the X and y sets into train/test sets. I would train the n-gram model on the training sets, and use the test sets to validate the model."
   ]
  },
  {
   "cell_type": "markdown",
   "id": "ca18b849",
   "metadata": {},
   "source": [
    "# Part 4"
   ]
  },
  {
   "cell_type": "markdown",
   "id": "f6562572",
   "metadata": {},
   "source": [
    "A BPE, or Byte-Pair Encoding tokenizer, works by computing the unique set of words used in a corpus, after normalization/pre-tokenization steps are completeed. After this, a BPE builds the vocabulary by taking all the symbols used to write those words, thus building our alphabet. Beyond this, new tokens will be added to the base vocabulary until the desired vocabulary size is reached.\n",
    "\n",
    "WordPiece was developed by Google to pretrain BERT. WordPiece works similarly to BPE, starting wiht a small vocabulary including special tokens used by the model/alphabet. WordPiece identifies subwords by adding prefixes, thus each word is split by adding the prefix to all characters inside the word. So, the alphabet is made up of all the characters present at the beginning of a word, and characters present inside a word preceded by the prefix.\n",
    "\n",
    "low low low low low lowest lowest newer newer newer newer newer newer wider wider wider\n",
    "new new\n",
    "\n",
    "WordPiece will tokenize this sample of text by first getting the list of unique words. This list will contain [low, lowest, newer, wider, new]. Then, we will get a count for each of them, which will be:\n",
    "\n",
    "low: 5\n",
    "lowest: 2\n",
    "newer: 6\n",
    "wider: 3\n",
    "new: 2\n",
    "\n",
    "Lastly, we will get the list of all unique chars to construct our vocabulary. These unique chars will be [l, o, w, e, s, t, n, r, i]. We will then pick a consecutive pair that has the highest joint probability, in this case will be w and e. The probability will be computed as:\n",
    "\n",
    "P(w,e) = 16/(18*19) = 0.0468\n",
    "\n",
    "This pair will then be added back to our vocabulary set, which will now be [l, o, w, e, s, t, n, r, i, we]. This process will be repeated until we've reached our defined vocabulary size."
   ]
  },
  {
   "cell_type": "code",
   "execution_count": null,
   "id": "a4539ed7",
   "metadata": {},
   "outputs": [],
   "source": []
  }
 ],
 "metadata": {
  "kernelspec": {
   "display_name": "Python 3 (ipykernel)",
   "language": "python",
   "name": "python3"
  },
  "language_info": {
   "codemirror_mode": {
    "name": "ipython",
    "version": 3
   },
   "file_extension": ".py",
   "mimetype": "text/x-python",
   "name": "python",
   "nbconvert_exporter": "python",
   "pygments_lexer": "ipython3",
   "version": "3.9.7"
  }
 },
 "nbformat": 4,
 "nbformat_minor": 5
}
